{
 "cells": [
  {
   "cell_type": "markdown",
   "metadata": {},
   "source": [
    "<img src=\"https://raw.githubusercontent.com/Mauritas99/Proyect_images/refs/heads/main/Recommendation_model.jpg\">"
   ]
  },
  {
   "cell_type": "markdown",
   "metadata": {},
   "source": [
    "><h2>1. Importar librerias</h2>"
   ]
  },
  {
   "cell_type": "code",
   "execution_count": null,
   "metadata": {},
   "outputs": [],
   "source": [
    "pip install lightfm"
   ]
  },
  {
   "cell_type": "code",
   "execution_count": null,
   "metadata": {},
   "outputs": [],
   "source": [
    "pip install category_encoders"
   ]
  },
  {
   "cell_type": "code",
   "execution_count": 4,
   "metadata": {},
   "outputs": [],
   "source": [
    "import pandas as pd\n",
    "from lightfm import LightFM\n",
    "from category_encoders import TargetEncoder\n",
    "from scipy.sparse import coo_matrix,csr_matrix\n",
    "from sklearn.preprocessing import OneHotEncoder\n",
    "from lightfm.evaluation import precision_at_k"
   ]
  },
  {
   "cell_type": "code",
   "execution_count": 5,
   "metadata": {},
   "outputs": [],
   "source": [
    "df_wines = pd.read_csv(\"../1.1_Data_limpia/df_wines_limpio_2.csv\")"
   ]
  },
  {
   "cell_type": "markdown",
   "metadata": {},
   "source": [
    "<h5><li style=\"font-size:1.3rem; top:2px;\"><em>Sistema de Recomendación de Vinos</em></li></h5>\n",
    "    <ul>\n",
    "        <li style=\"font-size:1.2rem; margin-top:10px;\">[x] Basado en contenido: Recomendaciones en función de la variedad, país, etc.\n",
    "        </li>\n",
    "        <li style=\"font-size:1.2rem; margin-top:10px;\">[x] Colaborativo: Recomendaciones basadas en la similitud entre puntuaciones de usuarios.\n",
    "        </li>\n",
    "    </ul>\n",
    "    <br>"
   ]
  },
  {
   "cell_type": "markdown",
   "metadata": {},
   "source": [
    "><h2>2. Preparar dataset</h2>"
   ]
  },
  {
   "cell_type": "code",
   "execution_count": 6,
   "metadata": {},
   "outputs": [],
   "source": [
    "df_wines_recom = df_wines.copy()"
   ]
  },
  {
   "cell_type": "code",
   "execution_count": 7,
   "metadata": {},
   "outputs": [],
   "source": [
    "# Ordenamos columnas\n",
    "columnas_ordenadas = ['country','province','region_1', 'region_2','title', 'description', 'designation', 'variety', 'winery','points', 'price','price_categ','taster_name', 'taster_twitter_handle',]\n",
    "df_wines_recom = df_wines_recom[columnas_ordenadas]"
   ]
  },
  {
   "cell_type": "code",
   "execution_count": 8,
   "metadata": {},
   "outputs": [
    {
     "name": "stdout",
     "output_type": "stream",
     "text": [
      "frecuencia mas alta para country: US\n",
      "frecuencia mas alta para province: California\n",
      "frecuencia mas alta para region_1: Sin dato\n",
      "frecuencia mas alta para region_2: No posee sub-región\n",
      "frecuencia mas alta para title: Gloria Ferrer NV Sonoma Brut Sparkling (Sonoma County)\n",
      "frecuencia mas alta para description: This opens with subtle aromas of wild flower and a whiff of exotic fruit. The bright fruity palate offers white peach, apple and a hint of honeydew melon. It's straightforward and refreshing.\n",
      "frecuencia mas alta para designation: Desconocida\n",
      "frecuencia mas alta para variety: Pinot Noir\n",
      "frecuencia mas alta para winery: Wines & Winemakers\n",
      "frecuencia mas alta para points: 88\n",
      "frecuencia mas alta para price: 35\n",
      "frecuencia mas alta para price_categ: Premium\n",
      "frecuencia mas alta para taster_name: Desconocido\n",
      "frecuencia mas alta para taster_twitter_handle: Desconocido\n"
     ]
    }
   ],
   "source": [
    "for column in df_wines_recom.columns:\n",
    "    count = df_wines_recom[column].value_counts()\n",
    "    print(f\"frecuencia mas alta para {column}: {count.idxmax()}\") # Retiramos aquellas filas con cantidad alta de datos desconocidos.\n"
   ]
  },
  {
   "cell_type": "code",
   "execution_count": 9,
   "metadata": {},
   "outputs": [],
   "source": [
    "umbral = 2 # Cantidad de nulos maximos por fila\n",
    "\n",
    "df_recom_replaced = df_wines_recom.replace([\"No posee sub-región\",\"Sin dato\",\"Desconocido\",\"Desconocida\",\"Procedencia desconocida\"],pd.NA)\n",
    "df_recom_filtrado = df_recom_replaced[df_recom_replaced.isna().sum(axis=1) <= umbral]\n",
    "df_recom_filtrado = df_recom_filtrado.fillna(\"Sin dato\")\n",
    "\n",
    "df_wines_recom = df_recom_filtrado # Se le retiro un 20k de filas al dataset."
   ]
  },
  {
   "cell_type": "markdown",
   "metadata": {},
   "source": [
    "<h4><em>2.1 Generar dataset vinos y usuarios.</em></h4>"
   ]
  },
  {
   "cell_type": "code",
   "execution_count": 11,
   "metadata": {},
   "outputs": [],
   "source": [
    "df_wines_caract = df_wines_recom.drop(columns=[\"description\",\"region_2\",\"taster_twitter_handle\"]) # Dataframe caracteristicas de vinos.\n",
    "df_wines_caract.reset_index(inplace=True)"
   ]
  },
  {
   "cell_type": "code",
   "execution_count": 12,
   "metadata": {},
   "outputs": [],
   "source": [
    "wine_ids = {title: i for i, title in enumerate(df_wines_recom['title'].unique())} # Asignar un ID a cada vino.\n",
    "taster_ids = {name: i for i, name in enumerate(df_wines_recom['taster_name'].unique())} # Asignar ID a cada sommelier."
   ]
  },
  {
   "cell_type": "code",
   "execution_count": 13,
   "metadata": {},
   "outputs": [],
   "source": [
    "# Agregamos los id al dataset.\n",
    "df_wines_caract['wine_id'] = df_wines_caract['title'].map(wine_ids)\n",
    "df_wines_caract['taster_id'] = df_wines_caract['taster_name'].map(taster_ids)"
   ]
  },
  {
   "cell_type": "code",
   "execution_count": 14,
   "metadata": {},
   "outputs": [],
   "source": [
    "# Generamos el dataset de sommeliers.\n",
    "df_tasters = pd.DataFrame({\n",
    "    'taster_id': df_wines_caract['taster_name'].map(taster_ids),\n",
    "    'wine_id': df_wines_caract['title'].map(wine_ids),\n",
    "    'points': df_wines_caract['points']\n",
    "})"
   ]
  },
  {
   "cell_type": "code",
   "execution_count": 15,
   "metadata": {},
   "outputs": [],
   "source": [
    "# Columnas a codificar\n",
    "\n",
    "col_cat_target = [\"country\", \"province\", \"region_1\", \"variety\", \"winery\", \"taster_name\",\"designation\"]\n",
    "col_num_target = [\"points\"]\n",
    "\n",
    "encoder = TargetEncoder(cols=col_cat_target)\n",
    "\n",
    "\n",
    "encoded_data = encoder.fit_transform(df_wines_caract[col_cat_target], df_wines_caract[col_num_target]) # Debido al tamaño que generaria OHE, se reemplaza por valor numerico de la categoria teniendo en cuenta \"points\"\n",
    "df_wines_caract[col_cat_target] = encoded_data[col_cat_target]\n",
    "\n",
    "category_mapping = {}\n",
    "for col in col_cat_target: # Genera un diccionario para encontrar el valor str asociado al valor numerico de targetEncoder.\n",
    "    unique_categories = df_wines_recom[col].unique()\n",
    "\n",
    "    temp_df = pd.DataFrame({c: ['placeholder'] * len(unique_categories) for c in col_cat_target})\n",
    "\n",
    "    temp_df[col] = unique_categories\n",
    "    encoded_values = encoder.transform(temp_df)[col].tolist()\n",
    "    category_mapping[col] = dict(zip(unique_categories, encoded_values))"
   ]
  },
  {
   "cell_type": "code",
   "execution_count": 16,
   "metadata": {},
   "outputs": [
    {
     "data": {
      "text/plain": [
       "88.89763698276752"
      ]
     },
     "execution_count": 16,
     "metadata": {},
     "output_type": "execute_result"
    }
   ],
   "source": [
    "encoded_country = category_mapping[\"taster_name\"][\"Kerin O’Keefe\"] # Mediante este mapa se obtiene el valor numerico al que corresponde una categoria de una variable codeada.\n",
    "encoded_country"
   ]
  },
  {
   "cell_type": "markdown",
   "metadata": {},
   "source": [
    "<ul>\n",
    "  <li><em>DataFrame de caracteristica de vinos: <b>df_wines_caract</b></li>\n",
    "  <li>Dataframe interacciones de sommeliers: <b>df_tasters</b></em></li>\n",
    "</ul>"
   ]
  },
  {
   "cell_type": "markdown",
   "metadata": {},
   "source": [
    "<h4><em>2.2 Crear matriz de interacciones</em></h4>"
   ]
  },
  {
   "cell_type": "code",
   "execution_count": 17,
   "metadata": {},
   "outputs": [],
   "source": [
    "interactions = coo_matrix((df_tasters['points'],\n",
    "                            (df_tasters['taster_id'], df_tasters['wine_id'])))\n",
    "interactions_matrix = csr_matrix(interactions) # Matriz de interacciones."
   ]
  },
  {
   "cell_type": "code",
   "execution_count": 18,
   "metadata": {},
   "outputs": [
    {
     "data": {
      "text/plain": [
       "(20, 98454)"
      ]
     },
     "execution_count": 18,
     "metadata": {},
     "output_type": "execute_result"
    }
   ],
   "source": [
    "interactions_matrix.shape"
   ]
  },
  {
   "cell_type": "markdown",
   "metadata": {},
   "source": [
    "<h4><em>2.3 Crear matriz de características</em></h4>"
   ]
  },
  {
   "cell_type": "code",
   "execution_count": 19,
   "metadata": {},
   "outputs": [],
   "source": [
    "df_wines_caract_matrix = df_wines_caract.drop(columns=[\"points\",\"taster_id\",\"price\",\"title\"]) # Retiramos caracteristicas que no aportan a la matriz."
   ]
  },
  {
   "cell_type": "code",
   "execution_count": 20,
   "metadata": {},
   "outputs": [],
   "source": [
    "# Codificar la variable price_categ con OHE\n",
    "ohe = OneHotEncoder()\n",
    "price_categ_ohe = ohe.fit_transform(df_wines_caract_matrix[[\"price_categ\"]])\n",
    "price_categ_ohe_df = pd.DataFrame(price_categ_ohe.toarray(), columns=ohe.get_feature_names_out([\"price_categ\"]))\n",
    "\n",
    "df_wines_caract_matrix = pd.concat([df_wines_caract_matrix, price_categ_ohe_df], axis=1)\n",
    "df_wines_caract_matrix = df_wines_caract_matrix.drop(columns=[\"price_categ\"])\n"
   ]
  },
  {
   "cell_type": "code",
   "execution_count": 21,
   "metadata": {},
   "outputs": [],
   "source": [
    "item_features = df_wines_caract_matrix\n",
    "features_matrix = csr_matrix(item_features) # Matriz de caracteristicas."
   ]
  },
  {
   "cell_type": "markdown",
   "metadata": {},
   "source": [
    "\n",
    "<h4><em>2.4 Diccionario</em></h4>"
   ]
  },
  {
   "cell_type": "code",
   "execution_count": 22,
   "metadata": {},
   "outputs": [],
   "source": [
    "wine_id_to_title = dict(zip(df_wines_caract['wine_id'], df_wines_caract['title'])) # Obtener nombre del vino segun su Id."
   ]
  },
  {
   "cell_type": "markdown",
   "metadata": {},
   "source": [
    "><h2>3. Modelo LightFM</h2>"
   ]
  },
  {
   "cell_type": "code",
   "execution_count": null,
   "metadata": {},
   "outputs": [],
   "source": [
    "model_lightfm = LightFM(loss='warp', no_components=33, learning_rate=0.05, random_state=42)\n",
    "\n",
    "model_lightfm.fit(interactions=interactions_matrix, epochs=10, num_threads=2) # Entrenar modelo."
   ]
  },
  {
   "cell_type": "markdown",
   "metadata": {},
   "source": [
    "<h4><em>3.1 Evaluar modelo.</em></h4>"
   ]
  },
  {
   "cell_type": "code",
   "execution_count": null,
   "metadata": {},
   "outputs": [
    {
     "name": "stdout",
     "output_type": "stream",
     "text": [
      "Precision del entrenamiento para valor de k=10:\t0.8700\n"
     ]
    }
   ],
   "source": [
    "k = 10\n",
    "print('Precision del entrenamiento para valor de k={}:\\t{:.4f}'.format(k, precision_at_k(model_lightfm, interactions_matrix, k=k).mean()))"
   ]
  },
  {
   "cell_type": "markdown",
   "metadata": {},
   "source": [
    "><h2>4. Funciones de recomendacion.</h2>"
   ]
  },
  {
   "cell_type": "code",
   "execution_count": null,
   "metadata": {},
   "outputs": [],
   "source": [
    "def recomendar_por_pais(pais:str,model:LightFM=model_lightfm,features_matrix:csr_matrix=features_matrix,wine_id_to_title:dict=wine_id_to_title,category_mapping:dict=category_mapping,n=10) -> list:\n",
    "    \"\"\"\n",
    "    Recomienda vinos por país de procedencia.\n",
    "    \"\"\"\n",
    "\n",
    "    # 1. Obtenemos el ID del país usando el diccionario category_mapping\n",
    "    pais_id = category_mapping[\"country\"][pais]\n",
    "\n",
    "    # 2. Buscamos los vinos con ese país de procedencia en features_matrix\n",
    "    country_index = item_features.columns.get_loc(\"country\")  # Obtener índice de la columna \"country\"\n",
    "    wine_ids_pais = features_matrix[:, country_index].toarray().flatten() == pais_id  # Buscar ID del país\n",
    "\n",
    "    # 3. Generamos las predicciones para todos los vinos con ese país de procedencia\n",
    "    scores = model.predict(user_ids=0, item_ids=np.arange(features_matrix.shape[0]), item_features=features_matrix)\n",
    "\n",
    "    # 4. Filtramos por los vinos que coincidan con el ID del país\n",
    "    scores_pais = scores[wine_ids_pais]\n",
    "\n",
    "    # 5. Ordenamos las predicciones y seleccionamos los n mejores\n",
    "    top_items_pais = np.argsort(-scores_pais)[:n]\n",
    "\n",
    "    # 6. Obtenemos los nombres de los vinos con su ID\n",
    "    wine_ids_for_country = item_features.index[wine_ids_pais] # obtener los wine_ids que corresponden al país\n",
    "    recommendations = [wine_id_to_title[item_features.loc[wine_ids_for_country[item], 'wine_id']] for item in top_items_pais]\n",
    "\n",
    "    return recommendations"
   ]
  },
  {
   "cell_type": "code",
   "execution_count": null,
   "metadata": {},
   "outputs": [
    {
     "data": {
      "text/plain": [
       "['Finca Las Moras 2010 Pedernal Malbec (San Juan)',\n",
       " 'Chakana 2006 Reserve Malbec (Luján de Cuyo)',\n",
       " 'Andeluna 2004 Pasionado Red (Uco Valley)',\n",
       " 'O. Fournier 2005 B Crux Red (Uco Valley)',\n",
       " 'Ricardo Santos 2006 La Madras Vineyard Malbec (Mendoza)',\n",
       " 'J. & F. Lurton 2004 Piedra Negra Malbec (Mendoza)',\n",
       " 'Penedo Borges 2012 Icono Malbec (Luján de Cuyo)',\n",
       " 'Antigal 2010 One Doña Angeles Vineyard Malbec (Mendoza)',\n",
       " 'Antigal 2008 One La Dolores Vineyard Malbec (Mendoza)',\n",
       " 'Bodega Tacuil 2010 33 de Dávalos Malbec (Salta)']"
      ]
     },
     "metadata": {},
     "output_type": "display_data"
    }
   ],
   "source": [
    "recomendar_por_pais(pais=\"Argentina\")"
   ]
  },
  {
   "cell_type": "code",
   "execution_count": null,
   "metadata": {},
   "outputs": [],
   "source": [
    "def recomendar_por_sommelier(sommelier: str, model: LightFM = model_lightfm, features_matrix: csr_matrix = features_matrix, wine_id_to_title: dict = wine_id_to_title, category_mapping: dict = category_mapping, n=10) -> list:\n",
    "    \"\"\"\n",
    "    Recomienda vinos según los mejores puntuados por un sommelier.\n",
    "    \"\"\"\n",
    "\n",
    "    # 1. Obtenemos el ID del sommelier usando el diccionario category_mapping\n",
    "    sommelier_id = category_mapping[\"taster_name\"][sommelier]\n",
    "\n",
    "    # 2. Buscamos los vinos puntuados por ese sommelier en features_matrix\n",
    "    taster_name_index = item_features.columns.get_loc(\"taster_name\")\n",
    "    wine_ids_sommelier_mask = features_matrix[:, taster_name_index].toarray().flatten() == sommelier_id\n",
    "    wine_ids_sommelier = item_features.index[wine_ids_sommelier_mask]  # Índices de los vinos puntuados por el sommelier\n",
    "\n",
    "\n",
    "    # 3. Generamos las predicciones para todos los vinos con ese sommelier\n",
    "    scores = model.predict(user_ids=0, item_ids=np.arange(features_matrix.shape[0]), item_features=features_matrix)\n",
    "\n",
    "    # 4. Filtramos por los vinos puntuados por el sommelier\n",
    "    scores_sommelier = scores[wine_ids_sommelier_mask]\n",
    "\n",
    "    # 5. Ordenamos las predicciones y seleccionamos los n mejores\n",
    "    top_items_sommelier = np.argsort(-scores_sommelier)[:n]\n",
    "\n",
    "    # 6. Obtenemos los nombres de los vinos con su ID\n",
    "    # Corrección: Obtener los IDs de los vinos recomendados del subconjunto filtrado\n",
    "    recommendations = [wine_id_to_title[item_features.loc[wine_ids_sommelier[item], 'wine_id']] for item in top_items_sommelier]\n",
    "\n",
    "    return recommendations\n"
   ]
  },
  {
   "cell_type": "code",
   "execution_count": null,
   "metadata": {},
   "outputs": [
    {
     "data": {
      "text/plain": [
       "[\"Cusumano 2012 Sàgana Tenuta San Giacomo Nero d'Avola (Sicilia)\",\n",
       " 'COS 2013 Frappato (Sicilia)',\n",
       " 'Feudo Principi di Butera 2012 Symposio Red (Terre Siciliane)',\n",
       " 'Baglio del Cristo di Campobello 2012 Adènzia Red (Sicilia)',\n",
       " 'Le Mandolare 2015 Corte Menini  (Soave Classico)',\n",
       " 'La Mannella 2012  Brunello di Montalcino',\n",
       " 'Luigi Maffini 2012 Kràtos Fiano (Paestum)',\n",
       " 'Di Giovanna 2013 Grillo (Terre Siciliane)',\n",
       " 'Braschi 2013 Il Costone Riserva Sangiovese (Romagna)',\n",
       " 'Barone di Villagrande 2012 Rosso Villagrande  (Etna)']"
      ]
     },
     "metadata": {},
     "output_type": "display_data"
    }
   ],
   "source": [
    "recomendar_por_sommelier(\"Kerin O’Keefe\")"
   ]
  },
  {
   "cell_type": "code",
   "execution_count": null,
   "metadata": {},
   "outputs": [],
   "source": [
    "def recomendar_por_variedad(variedad: str, model: LightFM = model_lightfm, features_matrix: csr_matrix = features_matrix, wine_id_to_title: dict = wine_id_to_title, category_mapping: dict = category_mapping, n=10) -> list:\n",
    "    \"\"\"\n",
    "    Recomienda vinos según la variedad de uva.\n",
    "    \"\"\"\n",
    "\n",
    "    # 1. Obtenemos el ID de la variedad usando el diccionario category_mapping\n",
    "    variedad_id = category_mapping[\"variety\"][variedad]\n",
    "\n",
    "    # 2. Buscamos los vinos con esa variedad en features_matrix\n",
    "    variety_index = item_features.columns.get_loc(\"variety\")  # Obtener índice de la columna \"variety\"\n",
    "    wine_ids_variedad = features_matrix[:, variety_index].toarray().flatten() == variedad_id  # Buscar ID de la variedad\n",
    "\n",
    "    # 3. Generamos las predicciones para todos los vinos con esa variedad\n",
    "    scores = model.predict(user_ids=0, item_ids=np.arange(features_matrix.shape[0]), item_features=features_matrix)\n",
    "\n",
    "    # 4. Filtramos por los vinos que coincidan con el ID de la variedad\n",
    "    scores_variedad = scores[wine_ids_variedad]\n",
    "\n",
    "    # 5. Ordenamos las predicciones y seleccionamos los n mejores\n",
    "    top_items_variedad = np.argsort(-scores_variedad)[:n]\n",
    "\n",
    "    # 6. Obtenemos los nombres de los vinos con su ID\n",
    "    wine_ids_for_variety = item_features.index[wine_ids_variedad]  # obtener los wine_ids que corresponden a la variedad\n",
    "    recommendations = [wine_id_to_title[item_features.loc[wine_ids_for_variety[item], 'wine_id']] for item in top_items_variedad]\n",
    "\n",
    "    return recommendations"
   ]
  },
  {
   "cell_type": "code",
   "execution_count": null,
   "metadata": {},
   "outputs": [
    {
     "data": {
      "text/plain": [
       "['Citation 2004 Pinot Noir (Oregon)',\n",
       " 'Caves Transmontanas 2006 Vértice Pinot Noir (Douro)',\n",
       " 'Bouchard Père & Fils 2005 Premier Cru  (Pommard)',\n",
       " 'Henri de Villamont 2005  Grands-Echezeaux',\n",
       " 'Pali 2006 Fiddlestix Vineyard Pinot Noir (Sta. Rita Hills)',\n",
       " 'Dunstan 2014 Durell Vineyard Pinot Noir (Sonoma Coast)',\n",
       " 'August West 2015 Pinot Noir (Santa Lucia Highlands)',\n",
       " \"Brutocao 2013 Slow Lope'n Vineyard Pinot Noir (Anderson Valley)\",\n",
       " \"River Road 2014 Stephanie's Cuvée Pinot Noir (Green Valley)\",\n",
       " 'Camille Giroud 2008  Côte de Beaune-Villages']"
      ]
     },
     "metadata": {},
     "output_type": "display_data"
    }
   ],
   "source": [
    "recomendar_por_variedad(\"Pinot Noir\")"
   ]
  }
 ],
 "metadata": {
  "kernelspec": {
   "display_name": "Python 3",
   "language": "python",
   "name": "python3"
  },
  "language_info": {
   "codemirror_mode": {
    "name": "ipython",
    "version": 3
   },
   "file_extension": ".py",
   "mimetype": "text/x-python",
   "name": "python",
   "nbconvert_exporter": "python",
   "pygments_lexer": "ipython3",
   "version": "3.12.1"
  }
 },
 "nbformat": 4,
 "nbformat_minor": 2
}
